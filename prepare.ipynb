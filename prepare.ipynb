{
 "cells": [
  {
   "cell_type": "code",
   "execution_count": 11,
   "metadata": {},
   "outputs": [],
   "source": [
    "import pandas as pd"
   ]
  },
  {
   "cell_type": "code",
   "execution_count": 12,
   "metadata": {},
   "outputs": [
    {
     "name": "stdout",
     "output_type": "stream",
     "text": [
      "ï»¿year;Theme name;Sets Name;Sets URL;Part category;Part name;Part material;Part color;RGB;Is Transparent?;Part URL;Set Price;Number of reviews;Star rating\n",
      "2016;Skylines;London;https://cdn.rebrickable.com/media/sets/21034-1.jpg;Plates;Plate 4 x 8;Plastic;Dark Blue;0A3463;False;https://cdn.rebrickable.com/media/parts/elements/303526.jpg;53,3556;23;4,7\n",
      "2016;Skylines;London;https://cdn.rebrickable.com/media/sets/21034-1.jpg;Plates;Plate 4 x 8;Plastic;Trans-Dark Blue;0020A0;True;https://cdn.rebrickable.com/media/parts/elements/303526.jpg;53,3556;23;4,7\n",
      "2016;Skylines;London;https://cdn.rebrickable.com/media/sets/21034-1.jpg;Plates;Plate 4 x 8;Plastic;Dark Blue;0A3463;False;https://cdn.rebrickable.com/media/parts/elements/303526.jpg;53,3556;23;4,7\n",
      "2016;Skylines;London;https://cdn.rebrickable.com/media/sets/21034-1.jpg;Plates;Plate 4 x 8;Plastic;Bright Green;4B9F4A;False;https://cdn.rebrickable.com/media/parts/elements/303526.jpg;53,3556;23;4,7\n",
      "2016;Skylines;London;https://cdn.rebrickable.com/media/sets/21034-1.jpg;Plates;Plate 4 x 8;Plastic;Bright Light Blue;9FC3E9;False;https://cdn.rebrickable.com/media/parts/elements/303526.jpg;53,3556;23;4,7\n",
      "2016;Skylines;London;https://cdn.rebrickable.com/media/sets/21034-1.jpg;Plates;Plate 4 x 8;Plastic;Dark Brown;352100;False;https://cdn.rebrickable.com/media/parts/elements/303526.jpg;53,3556;23;4,7\n",
      "2016;Skylines;London;https://cdn.rebrickable.com/media/sets/21034-1.jpg;Plates;Plate 4 x 8;Plastic;Brown;583927;False;https://cdn.rebrickable.com/media/parts/elements/303526.jpg;53,3556;23;4,7\n",
      "2016;Skylines;London;https://cdn.rebrickable.com/media/sets/21034-1.jpg;Plates;Plate 4 x 8;Plastic;Medium Nougat;AA7D55;False;https://cdn.rebrickable.com/media/parts/elements/303526.jpg;53,3556;23;4,7\n",
      "2016;Skylines;London;https://cdn.rebrickable.com/media/sets/21034-1.jpg;Plates;Plate 4 x 8;Plastic;Dark Purple;3F3691;False;https://cdn.rebrickable.com/media/parts/elements/303526.jpg;53,3556;23;4,7\n"
     ]
    }
   ],
   "source": [
    "\n",
    "N = 10\n",
    "with open('raw_data.csv') as f:  # the a opens it in append mode\n",
    "    for i in range(N):\n",
    "        line = next(f).strip()\n",
    "        print(line)"
   ]
  },
  {
   "cell_type": "code",
   "execution_count": 13,
   "metadata": {},
   "outputs": [
    {
     "name": "stderr",
     "output_type": "stream",
     "text": [
      "c:\\Users\\andre\\Documents\\GitHub\\Lego sets case study\\venv\\lib\\site-packages\\IPython\\core\\interactiveshell.py:3072: DtypeWarning: Columns (9) have mixed types.Specify dtype option on import or set low_memory=False.\n",
      "  interactivity=interactivity, compiler=compiler, result=result)\n"
     ]
    },
    {
     "data": {
      "text/html": [
       "<div>\n",
       "<style scoped>\n",
       "    .dataframe tbody tr th:only-of-type {\n",
       "        vertical-align: middle;\n",
       "    }\n",
       "\n",
       "    .dataframe tbody tr th {\n",
       "        vertical-align: top;\n",
       "    }\n",
       "\n",
       "    .dataframe thead th {\n",
       "        text-align: right;\n",
       "    }\n",
       "</style>\n",
       "<table border=\"1\" class=\"dataframe\">\n",
       "  <thead>\n",
       "    <tr style=\"text-align: right;\">\n",
       "      <th></th>\n",
       "      <th>year</th>\n",
       "      <th>Theme name</th>\n",
       "      <th>Sets Name</th>\n",
       "      <th>Sets URL</th>\n",
       "      <th>Part category</th>\n",
       "      <th>Part name</th>\n",
       "      <th>Part material</th>\n",
       "      <th>Part color</th>\n",
       "      <th>RGB</th>\n",
       "      <th>Is Transparent?</th>\n",
       "      <th>Part URL</th>\n",
       "      <th>Set Price</th>\n",
       "      <th>Number of reviews</th>\n",
       "      <th>Star rating</th>\n",
       "    </tr>\n",
       "  </thead>\n",
       "  <tbody>\n",
       "    <tr>\n",
       "      <th>0</th>\n",
       "      <td>2016</td>\n",
       "      <td>Skylines</td>\n",
       "      <td>London</td>\n",
       "      <td>https://cdn.rebrickable.com/media/sets/21034-1...</td>\n",
       "      <td>Plates</td>\n",
       "      <td>Plate 4 x 8</td>\n",
       "      <td>Plastic</td>\n",
       "      <td>Dark Blue</td>\n",
       "      <td>0A3463</td>\n",
       "      <td>False</td>\n",
       "      <td>https://cdn.rebrickable.com/media/parts/elemen...</td>\n",
       "      <td>53,3556</td>\n",
       "      <td>23</td>\n",
       "      <td>4,7</td>\n",
       "    </tr>\n",
       "    <tr>\n",
       "      <th>1</th>\n",
       "      <td>2016</td>\n",
       "      <td>Skylines</td>\n",
       "      <td>London</td>\n",
       "      <td>https://cdn.rebrickable.com/media/sets/21034-1...</td>\n",
       "      <td>Plates</td>\n",
       "      <td>Plate 4 x 8</td>\n",
       "      <td>Plastic</td>\n",
       "      <td>Trans-Dark Blue</td>\n",
       "      <td>0020A0</td>\n",
       "      <td>True</td>\n",
       "      <td>https://cdn.rebrickable.com/media/parts/elemen...</td>\n",
       "      <td>53,3556</td>\n",
       "      <td>23</td>\n",
       "      <td>4,7</td>\n",
       "    </tr>\n",
       "    <tr>\n",
       "      <th>2</th>\n",
       "      <td>2016</td>\n",
       "      <td>Skylines</td>\n",
       "      <td>London</td>\n",
       "      <td>https://cdn.rebrickable.com/media/sets/21034-1...</td>\n",
       "      <td>Plates</td>\n",
       "      <td>Plate 4 x 8</td>\n",
       "      <td>Plastic</td>\n",
       "      <td>Dark Blue</td>\n",
       "      <td>0A3463</td>\n",
       "      <td>False</td>\n",
       "      <td>https://cdn.rebrickable.com/media/parts/elemen...</td>\n",
       "      <td>53,3556</td>\n",
       "      <td>23</td>\n",
       "      <td>4,7</td>\n",
       "    </tr>\n",
       "    <tr>\n",
       "      <th>3</th>\n",
       "      <td>2016</td>\n",
       "      <td>Skylines</td>\n",
       "      <td>London</td>\n",
       "      <td>https://cdn.rebrickable.com/media/sets/21034-1...</td>\n",
       "      <td>Plates</td>\n",
       "      <td>Plate 4 x 8</td>\n",
       "      <td>Plastic</td>\n",
       "      <td>Bright Green</td>\n",
       "      <td>4B9F4A</td>\n",
       "      <td>False</td>\n",
       "      <td>https://cdn.rebrickable.com/media/parts/elemen...</td>\n",
       "      <td>53,3556</td>\n",
       "      <td>23</td>\n",
       "      <td>4,7</td>\n",
       "    </tr>\n",
       "    <tr>\n",
       "      <th>4</th>\n",
       "      <td>2016</td>\n",
       "      <td>Skylines</td>\n",
       "      <td>London</td>\n",
       "      <td>https://cdn.rebrickable.com/media/sets/21034-1...</td>\n",
       "      <td>Plates</td>\n",
       "      <td>Plate 4 x 8</td>\n",
       "      <td>Plastic</td>\n",
       "      <td>Bright Light Blue</td>\n",
       "      <td>9FC3E9</td>\n",
       "      <td>False</td>\n",
       "      <td>https://cdn.rebrickable.com/media/parts/elemen...</td>\n",
       "      <td>53,3556</td>\n",
       "      <td>23</td>\n",
       "      <td>4,7</td>\n",
       "    </tr>\n",
       "  </tbody>\n",
       "</table>\n",
       "</div>"
      ],
      "text/plain": [
       "   year Theme name Sets Name  \\\n",
       "0  2016   Skylines    London   \n",
       "1  2016   Skylines    London   \n",
       "2  2016   Skylines    London   \n",
       "3  2016   Skylines    London   \n",
       "4  2016   Skylines    London   \n",
       "\n",
       "                                            Sets URL Part category  \\\n",
       "0  https://cdn.rebrickable.com/media/sets/21034-1...        Plates   \n",
       "1  https://cdn.rebrickable.com/media/sets/21034-1...        Plates   \n",
       "2  https://cdn.rebrickable.com/media/sets/21034-1...        Plates   \n",
       "3  https://cdn.rebrickable.com/media/sets/21034-1...        Plates   \n",
       "4  https://cdn.rebrickable.com/media/sets/21034-1...        Plates   \n",
       "\n",
       "     Part name Part material         Part color     RGB Is Transparent?  \\\n",
       "0  Plate 4 x 8       Plastic          Dark Blue  0A3463           False   \n",
       "1  Plate 4 x 8       Plastic    Trans-Dark Blue  0020A0            True   \n",
       "2  Plate 4 x 8       Plastic          Dark Blue  0A3463           False   \n",
       "3  Plate 4 x 8       Plastic       Bright Green  4B9F4A           False   \n",
       "4  Plate 4 x 8       Plastic  Bright Light Blue  9FC3E9           False   \n",
       "\n",
       "                                            Part URL Set Price  \\\n",
       "0  https://cdn.rebrickable.com/media/parts/elemen...   53,3556   \n",
       "1  https://cdn.rebrickable.com/media/parts/elemen...   53,3556   \n",
       "2  https://cdn.rebrickable.com/media/parts/elemen...   53,3556   \n",
       "3  https://cdn.rebrickable.com/media/parts/elemen...   53,3556   \n",
       "4  https://cdn.rebrickable.com/media/parts/elemen...   53,3556   \n",
       "\n",
       "  Number of reviews Star rating  \n",
       "0                23         4,7  \n",
       "1                23         4,7  \n",
       "2                23         4,7  \n",
       "3                23         4,7  \n",
       "4                23         4,7  "
      ]
     },
     "execution_count": 13,
     "metadata": {},
     "output_type": "execute_result"
    }
   ],
   "source": [
    "input_df = pd.read_csv('raw_data.csv', sep=\";\")\n",
    "input_df.head()"
   ]
  },
  {
   "cell_type": "code",
   "execution_count": 14,
   "metadata": {},
   "outputs": [
    {
     "name": "stdout",
     "output_type": "stream",
     "text": [
      "<class 'pandas.core.frame.DataFrame'>\n",
      "RangeIndex: 4698983 entries, 0 to 4698982\n",
      "Data columns (total 14 columns):\n",
      " #   Column             Dtype \n",
      "---  ------             ----- \n",
      " 0   year               int64 \n",
      " 1   Theme name         object\n",
      " 2   Sets Name          object\n",
      " 3   Sets URL           object\n",
      " 4   Part category      object\n",
      " 5   Part name          object\n",
      " 6   Part material      object\n",
      " 7   Part color         object\n",
      " 8   RGB                object\n",
      " 9   Is Transparent?    object\n",
      " 10  Part URL           object\n",
      " 11  Set Price          object\n",
      " 12  Number of reviews  object\n",
      " 13  Star rating        object\n",
      "dtypes: int64(1), object(13)\n",
      "memory usage: 501.9+ MB\n"
     ]
    }
   ],
   "source": [
    "input_df.info()"
   ]
  },
  {
   "cell_type": "code",
   "execution_count": 15,
   "metadata": {},
   "outputs": [
    {
     "data": {
      "text/plain": [
       "Index(['year', 'Theme name', 'Sets Name', 'Sets URL', 'Part category',\n",
       "       'Part name', 'Part material', 'Part color', 'RGB', 'Is Transparent?',\n",
       "       'Part URL', 'Set Price', 'Number of reviews', 'Star rating'],\n",
       "      dtype='object')"
      ]
     },
     "execution_count": 15,
     "metadata": {},
     "output_type": "execute_result"
    }
   ],
   "source": [
    "input_df.columns"
   ]
  },
  {
   "cell_type": "markdown",
   "metadata": {},
   "source": [
    "### Looking at sets and not individual pieces so we'll limit the dataset to the specific sets"
   ]
  },
  {
   "cell_type": "code",
   "execution_count": 16,
   "metadata": {},
   "outputs": [
    {
     "data": {
      "text/html": [
       "<div>\n",
       "<style scoped>\n",
       "    .dataframe tbody tr th:only-of-type {\n",
       "        vertical-align: middle;\n",
       "    }\n",
       "\n",
       "    .dataframe tbody tr th {\n",
       "        vertical-align: top;\n",
       "    }\n",
       "\n",
       "    .dataframe thead th {\n",
       "        text-align: right;\n",
       "    }\n",
       "</style>\n",
       "<table border=\"1\" class=\"dataframe\">\n",
       "  <thead>\n",
       "    <tr style=\"text-align: right;\">\n",
       "      <th></th>\n",
       "      <th>year</th>\n",
       "      <th>Theme name</th>\n",
       "      <th>Sets Name</th>\n",
       "      <th>Set Price</th>\n",
       "      <th>Number of reviews</th>\n",
       "      <th>Star rating</th>\n",
       "    </tr>\n",
       "  </thead>\n",
       "  <tbody>\n",
       "    <tr>\n",
       "      <th>0</th>\n",
       "      <td>2016</td>\n",
       "      <td>Skylines</td>\n",
       "      <td>London</td>\n",
       "      <td>53,3556</td>\n",
       "      <td>23</td>\n",
       "      <td>4,7</td>\n",
       "    </tr>\n",
       "    <tr>\n",
       "      <th>1</th>\n",
       "      <td>2017</td>\n",
       "      <td>Friends</td>\n",
       "      <td>Puppy Parade</td>\n",
       "      <td>14,5111</td>\n",
       "      <td>1</td>\n",
       "      <td>4</td>\n",
       "    </tr>\n",
       "    <tr>\n",
       "      <th>2</th>\n",
       "      <td>2016</td>\n",
       "      <td>Angry Birds</td>\n",
       "      <td>Bird Island Egg Heist</td>\n",
       "      <td>30,5911</td>\n",
       "      <td>2</td>\n",
       "      <td>4,5</td>\n",
       "    </tr>\n",
       "    <tr>\n",
       "      <th>3</th>\n",
       "      <td>2017</td>\n",
       "      <td>Creator 3-in-1</td>\n",
       "      <td>Green Cruiser</td>\n",
       "      <td>12,736885714</td>\n",
       "      <td>6</td>\n",
       "      <td>4,5</td>\n",
       "    </tr>\n",
       "    <tr>\n",
       "      <th>4</th>\n",
       "      <td>2014</td>\n",
       "      <td>Trains</td>\n",
       "      <td>Cargo Train</td>\n",
       "      <td>224,402361905</td>\n",
       "      <td>35,380952381</td>\n",
       "      <td>4,4</td>\n",
       "    </tr>\n",
       "  </tbody>\n",
       "</table>\n",
       "</div>"
      ],
      "text/plain": [
       "   year      Theme name              Sets Name      Set Price  \\\n",
       "0  2016        Skylines                 London        53,3556   \n",
       "1  2017         Friends           Puppy Parade        14,5111   \n",
       "2  2016     Angry Birds  Bird Island Egg Heist        30,5911   \n",
       "3  2017  Creator 3-in-1          Green Cruiser   12,736885714   \n",
       "4  2014          Trains            Cargo Train  224,402361905   \n",
       "\n",
       "  Number of reviews Star rating  \n",
       "0                23         4,7  \n",
       "1                 1           4  \n",
       "2                 2         4,5  \n",
       "3                 6         4,5  \n",
       "4      35,380952381         4,4  "
      ]
     },
     "execution_count": 16,
     "metadata": {},
     "output_type": "execute_result"
    }
   ],
   "source": [
    "columns_needed = ['year', 'Theme name', 'Sets Name', 'Set Price', 'Number of reviews', 'Star rating']\n",
    "\n",
    "set_df = input_df[columns_needed].drop_duplicates().reset_index().drop('index', axis=1)\n",
    "set_df.head()\n"
   ]
  },
  {
   "cell_type": "code",
   "execution_count": 17,
   "metadata": {},
   "outputs": [
    {
     "name": "stdout",
     "output_type": "stream",
     "text": [
      "<class 'pandas.core.frame.DataFrame'>\n",
      "RangeIndex: 750 entries, 0 to 749\n",
      "Data columns (total 6 columns):\n",
      " #   Column             Non-Null Count  Dtype \n",
      "---  ------             --------------  ----- \n",
      " 0   year               750 non-null    int64 \n",
      " 1   Theme name         750 non-null    object\n",
      " 2   Sets Name          750 non-null    object\n",
      " 3   Set Price          750 non-null    object\n",
      " 4   Number of reviews  750 non-null    object\n",
      " 5   Star rating        750 non-null    object\n",
      "dtypes: int64(1), object(5)\n",
      "memory usage: 35.3+ KB\n"
     ]
    }
   ],
   "source": [
    "set_df.info()"
   ]
  },
  {
   "cell_type": "markdown",
   "metadata": {},
   "source": [
    "### Cleanup data types\n",
    "\n",
    "Set price to float <br/>\n",
    "Number of reviews to int <br/>\n",
    "Star rating to float <br/>"
   ]
  },
  {
   "cell_type": "code",
   "execution_count": 18,
   "metadata": {},
   "outputs": [],
   "source": [
    "def review_cleaner(review_input: str):\n",
    "    return int(review_input.split(\",\")[0])\n",
    "\n"
   ]
  },
  {
   "cell_type": "code",
   "execution_count": 19,
   "metadata": {},
   "outputs": [
    {
     "data": {
      "text/html": [
       "<div>\n",
       "<style scoped>\n",
       "    .dataframe tbody tr th:only-of-type {\n",
       "        vertical-align: middle;\n",
       "    }\n",
       "\n",
       "    .dataframe tbody tr th {\n",
       "        vertical-align: top;\n",
       "    }\n",
       "\n",
       "    .dataframe thead th {\n",
       "        text-align: right;\n",
       "    }\n",
       "</style>\n",
       "<table border=\"1\" class=\"dataframe\">\n",
       "  <thead>\n",
       "    <tr style=\"text-align: right;\">\n",
       "      <th></th>\n",
       "      <th>year</th>\n",
       "      <th>Theme name</th>\n",
       "      <th>Sets Name</th>\n",
       "      <th>Set Price</th>\n",
       "      <th>Number of reviews</th>\n",
       "      <th>Star rating</th>\n",
       "    </tr>\n",
       "  </thead>\n",
       "  <tbody>\n",
       "    <tr>\n",
       "      <th>0</th>\n",
       "      <td>2016</td>\n",
       "      <td>Skylines</td>\n",
       "      <td>London</td>\n",
       "      <td>53.355600</td>\n",
       "      <td>23</td>\n",
       "      <td>4.7</td>\n",
       "    </tr>\n",
       "    <tr>\n",
       "      <th>1</th>\n",
       "      <td>2017</td>\n",
       "      <td>Friends</td>\n",
       "      <td>Puppy Parade</td>\n",
       "      <td>14.511100</td>\n",
       "      <td>1</td>\n",
       "      <td>4.0</td>\n",
       "    </tr>\n",
       "    <tr>\n",
       "      <th>2</th>\n",
       "      <td>2016</td>\n",
       "      <td>Angry Birds</td>\n",
       "      <td>Bird Island Egg Heist</td>\n",
       "      <td>30.591100</td>\n",
       "      <td>2</td>\n",
       "      <td>4.5</td>\n",
       "    </tr>\n",
       "    <tr>\n",
       "      <th>3</th>\n",
       "      <td>2017</td>\n",
       "      <td>Creator 3-in-1</td>\n",
       "      <td>Green Cruiser</td>\n",
       "      <td>12.736886</td>\n",
       "      <td>6</td>\n",
       "      <td>4.5</td>\n",
       "    </tr>\n",
       "    <tr>\n",
       "      <th>4</th>\n",
       "      <td>2014</td>\n",
       "      <td>Trains</td>\n",
       "      <td>Cargo Train</td>\n",
       "      <td>224.402362</td>\n",
       "      <td>35</td>\n",
       "      <td>4.4</td>\n",
       "    </tr>\n",
       "  </tbody>\n",
       "</table>\n",
       "</div>"
      ],
      "text/plain": [
       "   year      Theme name              Sets Name   Set Price  Number of reviews  \\\n",
       "0  2016        Skylines                 London   53.355600                 23   \n",
       "1  2017         Friends           Puppy Parade   14.511100                  1   \n",
       "2  2016     Angry Birds  Bird Island Egg Heist   30.591100                  2   \n",
       "3  2017  Creator 3-in-1          Green Cruiser   12.736886                  6   \n",
       "4  2014          Trains            Cargo Train  224.402362                 35   \n",
       "\n",
       "   Star rating  \n",
       "0          4.7  \n",
       "1          4.0  \n",
       "2          4.5  \n",
       "3          4.5  \n",
       "4          4.4  "
      ]
     },
     "execution_count": 19,
     "metadata": {},
     "output_type": "execute_result"
    }
   ],
   "source": [
    "set_df['Set Price'] = set_df['Set Price'].str.replace(',', '.').astype(float)\n",
    "set_df['Number of reviews'] = set_df['Number of reviews'].apply(review_cleaner)\n",
    "set_df['Star rating'] = set_df['Star rating'].str.replace(',', '.').astype(float)\n",
    "\n",
    "set_df.head()"
   ]
  },
  {
   "cell_type": "code",
   "execution_count": 20,
   "metadata": {},
   "outputs": [],
   "source": [
    "set_df.to_csv('set_lvl_data.csv', index=False)"
   ]
  },
  {
   "cell_type": "code",
   "execution_count": null,
   "metadata": {},
   "outputs": [],
   "source": []
  }
 ],
 "metadata": {
  "kernelspec": {
   "display_name": "venv",
   "language": "python",
   "name": "python3"
  },
  "language_info": {
   "codemirror_mode": {
    "name": "ipython",
    "version": 3
   },
   "file_extension": ".py",
   "mimetype": "text/x-python",
   "name": "python",
   "nbconvert_exporter": "python",
   "pygments_lexer": "ipython3",
   "version": "3.6.8"
  }
 },
 "nbformat": 4,
 "nbformat_minor": 2
}
