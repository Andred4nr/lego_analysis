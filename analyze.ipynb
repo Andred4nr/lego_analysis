{
 "cells": [
  {
   "cell_type": "markdown",
   "metadata": {},
   "source": [
    "# Analyse phase"
   ]
  },
  {
   "cell_type": "code",
   "execution_count": 15,
   "metadata": {},
   "outputs": [],
   "source": [
    "import pandas as pd\n",
    "import seaborn as sns\n",
    "import matplotlib.pyplot as plt"
   ]
  },
  {
   "cell_type": "code",
   "execution_count": 6,
   "metadata": {},
   "outputs": [
    {
     "data": {
      "text/html": [
       "<div>\n",
       "<style scoped>\n",
       "    .dataframe tbody tr th:only-of-type {\n",
       "        vertical-align: middle;\n",
       "    }\n",
       "\n",
       "    .dataframe tbody tr th {\n",
       "        vertical-align: top;\n",
       "    }\n",
       "\n",
       "    .dataframe thead th {\n",
       "        text-align: right;\n",
       "    }\n",
       "</style>\n",
       "<table border=\"1\" class=\"dataframe\">\n",
       "  <thead>\n",
       "    <tr style=\"text-align: right;\">\n",
       "      <th></th>\n",
       "      <th>year</th>\n",
       "      <th>Theme name</th>\n",
       "      <th>Sets Name</th>\n",
       "      <th>Set Price</th>\n",
       "      <th>Number of reviews</th>\n",
       "      <th>Star rating</th>\n",
       "    </tr>\n",
       "  </thead>\n",
       "  <tbody>\n",
       "    <tr>\n",
       "      <th>0</th>\n",
       "      <td>2016</td>\n",
       "      <td>Skylines</td>\n",
       "      <td>London</td>\n",
       "      <td>53.355600</td>\n",
       "      <td>23</td>\n",
       "      <td>4.7</td>\n",
       "    </tr>\n",
       "    <tr>\n",
       "      <th>1</th>\n",
       "      <td>2017</td>\n",
       "      <td>Friends</td>\n",
       "      <td>Puppy Parade</td>\n",
       "      <td>14.511100</td>\n",
       "      <td>1</td>\n",
       "      <td>4.0</td>\n",
       "    </tr>\n",
       "    <tr>\n",
       "      <th>2</th>\n",
       "      <td>2016</td>\n",
       "      <td>Angry Birds</td>\n",
       "      <td>Bird Island Egg Heist</td>\n",
       "      <td>30.591100</td>\n",
       "      <td>2</td>\n",
       "      <td>4.5</td>\n",
       "    </tr>\n",
       "    <tr>\n",
       "      <th>3</th>\n",
       "      <td>2017</td>\n",
       "      <td>Creator 3-in-1</td>\n",
       "      <td>Green Cruiser</td>\n",
       "      <td>12.736886</td>\n",
       "      <td>6</td>\n",
       "      <td>4.5</td>\n",
       "    </tr>\n",
       "    <tr>\n",
       "      <th>4</th>\n",
       "      <td>2014</td>\n",
       "      <td>Trains</td>\n",
       "      <td>Cargo Train</td>\n",
       "      <td>224.402362</td>\n",
       "      <td>35</td>\n",
       "      <td>4.4</td>\n",
       "    </tr>\n",
       "  </tbody>\n",
       "</table>\n",
       "</div>"
      ],
      "text/plain": [
       "   year      Theme name              Sets Name   Set Price  Number of reviews  \\\n",
       "0  2016        Skylines                 London   53.355600                 23   \n",
       "1  2017         Friends           Puppy Parade   14.511100                  1   \n",
       "2  2016     Angry Birds  Bird Island Egg Heist   30.591100                  2   \n",
       "3  2017  Creator 3-in-1          Green Cruiser   12.736886                  6   \n",
       "4  2014          Trains            Cargo Train  224.402362                 35   \n",
       "\n",
       "   Star rating  \n",
       "0          4.7  \n",
       "1          4.0  \n",
       "2          4.5  \n",
       "3          4.5  \n",
       "4          4.4  "
      ]
     },
     "execution_count": 6,
     "metadata": {},
     "output_type": "execute_result"
    }
   ],
   "source": [
    "set_data = pd.read_csv('set_lvl_data.csv')\n",
    "set_data.head()"
   ]
  },
  {
   "cell_type": "code",
   "execution_count": 7,
   "metadata": {},
   "outputs": [
    {
     "data": {
      "text/html": [
       "<div>\n",
       "<style scoped>\n",
       "    .dataframe tbody tr th:only-of-type {\n",
       "        vertical-align: middle;\n",
       "    }\n",
       "\n",
       "    .dataframe tbody tr th {\n",
       "        vertical-align: top;\n",
       "    }\n",
       "\n",
       "    .dataframe thead th {\n",
       "        text-align: right;\n",
       "    }\n",
       "</style>\n",
       "<table border=\"1\" class=\"dataframe\">\n",
       "  <thead>\n",
       "    <tr style=\"text-align: right;\">\n",
       "      <th></th>\n",
       "      <th>year</th>\n",
       "      <th>Set Price</th>\n",
       "      <th>Number of reviews</th>\n",
       "      <th>Star rating</th>\n",
       "    </tr>\n",
       "  </thead>\n",
       "  <tbody>\n",
       "    <tr>\n",
       "      <th>count</th>\n",
       "      <td>750.000000</td>\n",
       "      <td>750.000000</td>\n",
       "      <td>750.000000</td>\n",
       "      <td>750.000000</td>\n",
       "    </tr>\n",
       "    <tr>\n",
       "      <th>mean</th>\n",
       "      <td>2013.741333</td>\n",
       "      <td>62.779383</td>\n",
       "      <td>15.841333</td>\n",
       "      <td>4.549851</td>\n",
       "    </tr>\n",
       "    <tr>\n",
       "      <th>std</th>\n",
       "      <td>9.514504</td>\n",
       "      <td>86.340389</td>\n",
       "      <td>30.459457</td>\n",
       "      <td>0.441315</td>\n",
       "    </tr>\n",
       "    <tr>\n",
       "      <th>min</th>\n",
       "      <td>1957.000000</td>\n",
       "      <td>2.956552</td>\n",
       "      <td>1.000000</td>\n",
       "      <td>2.200000</td>\n",
       "    </tr>\n",
       "    <tr>\n",
       "      <th>25%</th>\n",
       "      <td>2015.000000</td>\n",
       "      <td>18.097362</td>\n",
       "      <td>3.000000</td>\n",
       "      <td>4.400000</td>\n",
       "    </tr>\n",
       "    <tr>\n",
       "      <th>50%</th>\n",
       "      <td>2017.000000</td>\n",
       "      <td>30.882910</td>\n",
       "      <td>8.000000</td>\n",
       "      <td>4.600000</td>\n",
       "    </tr>\n",
       "    <tr>\n",
       "      <th>75%</th>\n",
       "      <td>2018.000000</td>\n",
       "      <td>78.991100</td>\n",
       "      <td>16.000000</td>\n",
       "      <td>4.900000</td>\n",
       "    </tr>\n",
       "    <tr>\n",
       "      <th>max</th>\n",
       "      <td>2023.000000</td>\n",
       "      <td>795.544014</td>\n",
       "      <td>337.000000</td>\n",
       "      <td>5.000000</td>\n",
       "    </tr>\n",
       "  </tbody>\n",
       "</table>\n",
       "</div>"
      ],
      "text/plain": [
       "              year   Set Price  Number of reviews  Star rating\n",
       "count   750.000000  750.000000         750.000000   750.000000\n",
       "mean   2013.741333   62.779383          15.841333     4.549851\n",
       "std       9.514504   86.340389          30.459457     0.441315\n",
       "min    1957.000000    2.956552           1.000000     2.200000\n",
       "25%    2015.000000   18.097362           3.000000     4.400000\n",
       "50%    2017.000000   30.882910           8.000000     4.600000\n",
       "75%    2018.000000   78.991100          16.000000     4.900000\n",
       "max    2023.000000  795.544014         337.000000     5.000000"
      ]
     },
     "execution_count": 7,
     "metadata": {},
     "output_type": "execute_result"
    }
   ],
   "source": [
    "set_data.describe()"
   ]
  },
  {
   "cell_type": "code",
   "execution_count": 31,
   "metadata": {},
   "outputs": [],
   "source": [
    "def classify_sets_by_price(set_price):\n",
    "    if set_price < 100:\n",
    "        return 'low'\n",
    "    elif set_price < 250:\n",
    "        return 'medium'\n",
    "    else:\n",
    "        return 'high'\n",
    "\n",
    "def classify_sets_by_rating(set_rating):\n",
    "    if set_rating < 3:\n",
    "        return 'low'\n",
    "    elif set_rating < 4.5:\n",
    "        return 'medium'\n",
    "    else:\n",
    "        return 'high'\n",
    "\n",
    "def classify_sets_by_review_count(review_count):\n",
    "    if review_count < 8:\n",
    "        return 'low'\n",
    "    elif review_count < 20:\n",
    "        return 'medium'\n",
    "    else:\n",
    "        return 'high'\n"
   ]
  },
  {
   "cell_type": "code",
   "execution_count": 32,
   "metadata": {},
   "outputs": [],
   "source": [
    "set_data['price_category'] = set_data['Set Price'].apply(classify_sets_by_price)\n",
    "set_data['review_count_category'] = set_data['Number of reviews'].apply(classify_sets_by_review_count)\n",
    "set_data['star_category'] = set_data['Star rating'].apply(classify_sets_by_rating)"
   ]
  },
  {
   "cell_type": "code",
   "execution_count": 33,
   "metadata": {},
   "outputs": [
    {
     "data": {
      "text/plain": [
       "<AxesSubplot:xlabel='year', ylabel='Set Price'>"
      ]
     },
     "execution_count": 33,
     "metadata": {},
     "output_type": "execute_result"
    },
    {
     "data": {
      "image/png": "[encoded data removed]",
      "text/plain": [
       "<Figure size 432x288 with 1 Axes>"
      ]
     },
     "metadata": {
      "needs_background": "light"
     },
     "output_type": "display_data"
    }
   ],
   "source": [
    "# Plot the responses for different events and regions\n",
    "sns.lineplot(x=\"year\", y='Set Price',data=set_data)"
   ]
  },
  {
   "cell_type": "code",
   "execution_count": 35,
   "metadata": {},
   "outputs": [
    {
     "data": {
      "text/plain": [
       "<AxesSubplot:xlabel='year', ylabel='Set Price'>"
      ]
     },
     "execution_count": 35,
     "metadata": {},
     "output_type": "execute_result"
    },
    {
     "data": {
      "image/png": "[encoded data removed]",
      "text/plain": [
       "<Figure size 1080x360 with 1 Axes>"
      ]
     },
     "metadata": {
      "needs_background": "light"
     },
     "output_type": "display_data"
    }
   ],
   "source": [
    "# Plot the responses for year and set prices\n",
    "f, ax = plt.subplots(figsize=(15, 5))\n",
    "sns.scatterplot(x=\"year\", y='Set Price',data=set_data, ax=ax, hue='review_count_category')"
   ]
  },
  {
   "cell_type": "markdown",
   "metadata": {},
   "source": [
    "Prices seems to be mostly below 200 but starting around 2010 lego has started to make more expensive sets <br/>\n",
    "Are the more expensive sets gathering better score? (star rating)"
   ]
  },
  {
   "cell_type": "code",
   "execution_count": 36,
   "metadata": {},
   "outputs": [
    {
     "data": {
      "text/plain": [
       "<seaborn.axisgrid.FacetGrid at 0x18fffb62898>"
      ]
     },
     "execution_count": 36,
     "metadata": {},
     "output_type": "execute_result"
    },
    {
     "data": {
      "image/png": "[encoded data removed]",
      "text/plain": [
       "<Figure size 483.125x360 with 1 Axes>"
      ]
     },
     "metadata": {
      "needs_background": "light"
     },
     "output_type": "display_data"
    }
   ],
   "source": [
    "# Show the results of a linear regression within each dataset\n",
    "sns.lmplot(\n",
    "    data=set_data, y=\"Set Price\", x=\"Star rating\", hue='review_count_category'\n",
    ")"
   ]
  },
  {
   "cell_type": "markdown",
   "metadata": {},
   "source": [
    "Doesn't seem like the more expensive sets have better ratings outright<br/>\n",
    "It does seem like a high review count correlates positively with the higher price, seems like the shoppers for higher value sets are more involved - good thing"
   ]
  },
  {
   "cell_type": "code",
   "execution_count": 38,
   "metadata": {},
   "outputs": [
    {
     "data": {
      "text/plain": [
       "<AxesSubplot:xlabel='year', ylabel='Count'>"
      ]
     },
     "execution_count": 38,
     "metadata": {},
     "output_type": "execute_result"
    },
    {
     "data": {
      "image/png": "[encoded data removed]",
      "text/plain": [
       "<Figure size 1080x360 with 1 Axes>"
      ]
     },
     "metadata": {
      "needs_background": "light"
     },
     "output_type": "display_data"
    }
   ],
   "source": [
    "# plot the swet counts per year\n",
    "f, ax = plt.subplots(figsize=(15, 5))\n",
    "sns.histplot(\n",
    "    data=set_data,\n",
    "    x=\"year\",\n",
    "    hue='price_category',\n",
    "    multiple=\"stack\"\n",
    ")"
   ]
  },
  {
   "cell_type": "markdown",
   "metadata": {},
   "source": [
    "The amount of sets produced has started to incease around 2005.<br/>\n",
    "The volumne increase seems mostly driven by low value sets"
   ]
  },
  {
   "cell_type": "code",
   "execution_count": 41,
   "metadata": {},
   "outputs": [
    {
     "data": {
      "text/plain": [
       "<AxesSubplot:xlabel='year', ylabel='Count'>"
      ]
     },
     "execution_count": 41,
     "metadata": {},
     "output_type": "execute_result"
    },
    {
     "data": {
      "image/png": "[encoded data removed]",
      "text/plain": [
       "<Figure size 1080x360 with 1 Axes>"
      ]
     },
     "metadata": {
      "needs_background": "light"
     },
     "output_type": "display_data"
    }
   ],
   "source": [
    "# plot the swet counts per year\n",
    "f, ax = plt.subplots(figsize=(15, 5))\n",
    "sns.histplot(\n",
    "    data=set_data[set_data['price_category'].isin(['high', 'medium'])],\n",
    "    x=\"year\",\n",
    "    hue='price_category',\n",
    "    multiple=\"stack\"\n",
    ")"
   ]
  },
  {
   "cell_type": "markdown",
   "metadata": {},
   "source": [
    "As initially noted it seems that even though most of the volume of lego sets is inded lead by low price sets we see that medium and high value sets started to become prevalent from 2005 onwards and have shown good growth.<br/>\n",
    "If we had sales figures it would be nice to understand how much of the bottom line was driven by the high value sets."
   ]
  },
  {
   "cell_type": "code",
   "execution_count": 42,
   "metadata": {},
   "outputs": [
    {
     "data": {
      "text/plain": [
       "price_category\n",
       "high      57.000000\n",
       "low       10.049917\n",
       "medium    36.441860\n",
       "Name: Number of reviews, dtype: float64"
      ]
     },
     "execution_count": 42,
     "metadata": {},
     "output_type": "execute_result"
    }
   ],
   "source": [
    "set_data.groupby(['price_category'])['Number of reviews'].mean()"
   ]
  },
  {
   "cell_type": "markdown",
   "metadata": {},
   "source": [
    "We do see a positive relationship between the price category and number of reviews.<br/>\n",
    "As expected, the high value items create more engagement."
   ]
  },
  {
   "cell_type": "markdown",
   "metadata": {},
   "source": [
    "# checking the tops"
   ]
  },
  {
   "cell_type": "markdown",
   "metadata": {},
   "source": [
    "## Price"
   ]
  },
  {
   "cell_type": "code",
   "execution_count": 44,
   "metadata": {},
   "outputs": [
    {
     "data": {
      "text/html": [
       "<div>\n",
       "<style scoped>\n",
       "    .dataframe tbody tr th:only-of-type {\n",
       "        vertical-align: middle;\n",
       "    }\n",
       "\n",
       "    .dataframe tbody tr th {\n",
       "        vertical-align: top;\n",
       "    }\n",
       "\n",
       "    .dataframe thead th {\n",
       "        text-align: right;\n",
       "    }\n",
       "</style>\n",
       "<table border=\"1\" class=\"dataframe\">\n",
       "  <thead>\n",
       "    <tr style=\"text-align: right;\">\n",
       "      <th></th>\n",
       "      <th>year</th>\n",
       "      <th>Theme name</th>\n",
       "      <th>Sets Name</th>\n",
       "      <th>Set Price</th>\n",
       "      <th>Number of reviews</th>\n",
       "      <th>Star rating</th>\n",
       "      <th>price_category</th>\n",
       "      <th>review_count_category</th>\n",
       "      <th>star_category</th>\n",
       "    </tr>\n",
       "  </thead>\n",
       "  <tbody>\n",
       "    <tr>\n",
       "      <th>375</th>\n",
       "      <td>2013</td>\n",
       "      <td>Educational and Dacta</td>\n",
       "      <td>Identity and Landscape Kit</td>\n",
       "      <td>795.544014</td>\n",
       "      <td>7</td>\n",
       "      <td>4.6</td>\n",
       "      <td>high</td>\n",
       "      <td>low</td>\n",
       "      <td>high</td>\n",
       "    </tr>\n",
       "    <tr>\n",
       "      <th>295</th>\n",
       "      <td>2010</td>\n",
       "      <td>Educational and Dacta</td>\n",
       "      <td>Identity and Landscape Kit</td>\n",
       "      <td>795.544014</td>\n",
       "      <td>7</td>\n",
       "      <td>4.6</td>\n",
       "      <td>high</td>\n",
       "      <td>low</td>\n",
       "      <td>high</td>\n",
       "    </tr>\n",
       "    <tr>\n",
       "      <th>298</th>\n",
       "      <td>2022</td>\n",
       "      <td>Educational and Dacta</td>\n",
       "      <td>Identity and Landscape Kit</td>\n",
       "      <td>795.544014</td>\n",
       "      <td>7</td>\n",
       "      <td>4.6</td>\n",
       "      <td>high</td>\n",
       "      <td>low</td>\n",
       "      <td>high</td>\n",
       "    </tr>\n",
       "    <tr>\n",
       "      <th>615</th>\n",
       "      <td>2010</td>\n",
       "      <td>Educational and Dacta</td>\n",
       "      <td>Connections Kit</td>\n",
       "      <td>676.352862</td>\n",
       "      <td>8</td>\n",
       "      <td>3.4</td>\n",
       "      <td>high</td>\n",
       "      <td>medium</td>\n",
       "      <td>medium</td>\n",
       "    </tr>\n",
       "    <tr>\n",
       "      <th>734</th>\n",
       "      <td>2013</td>\n",
       "      <td>Educational and Dacta</td>\n",
       "      <td>Connections Kit</td>\n",
       "      <td>676.352862</td>\n",
       "      <td>8</td>\n",
       "      <td>3.4</td>\n",
       "      <td>high</td>\n",
       "      <td>medium</td>\n",
       "      <td>medium</td>\n",
       "    </tr>\n",
       "    <tr>\n",
       "      <th>161</th>\n",
       "      <td>2016</td>\n",
       "      <td>Ghostbusters</td>\n",
       "      <td>Firehouse Headquarters</td>\n",
       "      <td>438.364405</td>\n",
       "      <td>130</td>\n",
       "      <td>4.8</td>\n",
       "      <td>high</td>\n",
       "      <td>high</td>\n",
       "      <td>high</td>\n",
       "    </tr>\n",
       "    <tr>\n",
       "      <th>624</th>\n",
       "      <td>2010</td>\n",
       "      <td>Educational and Dacta</td>\n",
       "      <td>Window Exploration Bag</td>\n",
       "      <td>437.422924</td>\n",
       "      <td>2</td>\n",
       "      <td>5.0</td>\n",
       "      <td>high</td>\n",
       "      <td>low</td>\n",
       "      <td>high</td>\n",
       "    </tr>\n",
       "    <tr>\n",
       "      <th>595</th>\n",
       "      <td>2021</td>\n",
       "      <td>Architecture</td>\n",
       "      <td>Taj Mahal</td>\n",
       "      <td>408.402500</td>\n",
       "      <td>43</td>\n",
       "      <td>4.8</td>\n",
       "      <td>high</td>\n",
       "      <td>high</td>\n",
       "      <td>high</td>\n",
       "    </tr>\n",
       "    <tr>\n",
       "      <th>640</th>\n",
       "      <td>2017</td>\n",
       "      <td>Creator Expert</td>\n",
       "      <td>Taj Mahal</td>\n",
       "      <td>408.402500</td>\n",
       "      <td>43</td>\n",
       "      <td>4.8</td>\n",
       "      <td>high</td>\n",
       "      <td>high</td>\n",
       "      <td>high</td>\n",
       "    </tr>\n",
       "    <tr>\n",
       "      <th>730</th>\n",
       "      <td>2008</td>\n",
       "      <td>Creator Expert</td>\n",
       "      <td>Taj Mahal</td>\n",
       "      <td>408.402500</td>\n",
       "      <td>43</td>\n",
       "      <td>4.8</td>\n",
       "      <td>high</td>\n",
       "      <td>high</td>\n",
       "      <td>high</td>\n",
       "    </tr>\n",
       "  </tbody>\n",
       "</table>\n",
       "</div>"
      ],
      "text/plain": [
       "     year             Theme name                   Sets Name   Set Price  \\\n",
       "375  2013  Educational and Dacta  Identity and Landscape Kit  795.544014   \n",
       "295  2010  Educational and Dacta  Identity and Landscape Kit  795.544014   \n",
       "298  2022  Educational and Dacta  Identity and Landscape Kit  795.544014   \n",
       "615  2010  Educational and Dacta             Connections Kit  676.352862   \n",
       "734  2013  Educational and Dacta             Connections Kit  676.352862   \n",
       "161  2016           Ghostbusters      Firehouse Headquarters  438.364405   \n",
       "624  2010  Educational and Dacta      Window Exploration Bag  437.422924   \n",
       "595  2021           Architecture                   Taj Mahal  408.402500   \n",
       "640  2017         Creator Expert                   Taj Mahal  408.402500   \n",
       "730  2008         Creator Expert                   Taj Mahal  408.402500   \n",
       "\n",
       "     Number of reviews  Star rating price_category review_count_category  \\\n",
       "375                  7          4.6           high                   low   \n",
       "295                  7          4.6           high                   low   \n",
       "298                  7          4.6           high                   low   \n",
       "615                  8          3.4           high                medium   \n",
       "734                  8          3.4           high                medium   \n",
       "161                130          4.8           high                  high   \n",
       "624                  2          5.0           high                   low   \n",
       "595                 43          4.8           high                  high   \n",
       "640                 43          4.8           high                  high   \n",
       "730                 43          4.8           high                  high   \n",
       "\n",
       "    star_category  \n",
       "375          high  \n",
       "295          high  \n",
       "298          high  \n",
       "615        medium  \n",
       "734        medium  \n",
       "161          high  \n",
       "624          high  \n",
       "595          high  \n",
       "640          high  \n",
       "730          high  "
      ]
     },
     "execution_count": 44,
     "metadata": {},
     "output_type": "execute_result"
    }
   ],
   "source": [
    "set_data.sort_values(\"Set Price\",ascending=False).head(10)"
   ]
  },
  {
   "cell_type": "markdown",
   "metadata": {},
   "source": [
    "## Review count"
   ]
  },
  {
   "cell_type": "code",
   "execution_count": 45,
   "metadata": {},
   "outputs": [
    {
     "data": {
      "text/html": [
       "<div>\n",
       "<style scoped>\n",
       "    .dataframe tbody tr th:only-of-type {\n",
       "        vertical-align: middle;\n",
       "    }\n",
       "\n",
       "    .dataframe tbody tr th {\n",
       "        vertical-align: top;\n",
       "    }\n",
       "\n",
       "    .dataframe thead th {\n",
       "        text-align: right;\n",
       "    }\n",
       "</style>\n",
       "<table border=\"1\" class=\"dataframe\">\n",
       "  <thead>\n",
       "    <tr style=\"text-align: right;\">\n",
       "      <th></th>\n",
       "      <th>year</th>\n",
       "      <th>Theme name</th>\n",
       "      <th>Sets Name</th>\n",
       "      <th>Set Price</th>\n",
       "      <th>Number of reviews</th>\n",
       "      <th>Star rating</th>\n",
       "      <th>price_category</th>\n",
       "      <th>review_count_category</th>\n",
       "      <th>star_category</th>\n",
       "    </tr>\n",
       "  </thead>\n",
       "  <tbody>\n",
       "    <tr>\n",
       "      <th>172</th>\n",
       "      <td>2011</td>\n",
       "      <td>Creator Expert</td>\n",
       "      <td>Volkswagen T1 Camper Van</td>\n",
       "      <td>123.816648</td>\n",
       "      <td>337</td>\n",
       "      <td>4.7</td>\n",
       "      <td>medium</td>\n",
       "      <td>high</td>\n",
       "      <td>high</td>\n",
       "    </tr>\n",
       "    <tr>\n",
       "      <th>99</th>\n",
       "      <td>2010</td>\n",
       "      <td>Creator Expert</td>\n",
       "      <td>Tower Bridge</td>\n",
       "      <td>283.520457</td>\n",
       "      <td>228</td>\n",
       "      <td>4.8</td>\n",
       "      <td>high</td>\n",
       "      <td>high</td>\n",
       "      <td>high</td>\n",
       "    </tr>\n",
       "    <tr>\n",
       "      <th>164</th>\n",
       "      <td>2014</td>\n",
       "      <td>Modular Buildings</td>\n",
       "      <td>Parisian Restaurant</td>\n",
       "      <td>191.073790</td>\n",
       "      <td>202</td>\n",
       "      <td>4.9</td>\n",
       "      <td>medium</td>\n",
       "      <td>high</td>\n",
       "      <td>high</td>\n",
       "    </tr>\n",
       "    <tr>\n",
       "      <th>697</th>\n",
       "      <td>2015</td>\n",
       "      <td>Ultimate Collector Series</td>\n",
       "      <td>Slave I</td>\n",
       "      <td>246.829979</td>\n",
       "      <td>201</td>\n",
       "      <td>4.8</td>\n",
       "      <td>medium</td>\n",
       "      <td>high</td>\n",
       "      <td>high</td>\n",
       "    </tr>\n",
       "    <tr>\n",
       "      <th>625</th>\n",
       "      <td>2019</td>\n",
       "      <td>Star Wars</td>\n",
       "      <td>Slave I</td>\n",
       "      <td>246.829979</td>\n",
       "      <td>201</td>\n",
       "      <td>4.8</td>\n",
       "      <td>medium</td>\n",
       "      <td>high</td>\n",
       "      <td>high</td>\n",
       "    </tr>\n",
       "    <tr>\n",
       "      <th>79</th>\n",
       "      <td>2006</td>\n",
       "      <td>Star Wars</td>\n",
       "      <td>Slave I</td>\n",
       "      <td>246.829979</td>\n",
       "      <td>201</td>\n",
       "      <td>4.8</td>\n",
       "      <td>medium</td>\n",
       "      <td>high</td>\n",
       "      <td>high</td>\n",
       "    </tr>\n",
       "    <tr>\n",
       "      <th>178</th>\n",
       "      <td>2000</td>\n",
       "      <td>Star Wars</td>\n",
       "      <td>Slave I</td>\n",
       "      <td>246.829979</td>\n",
       "      <td>201</td>\n",
       "      <td>4.8</td>\n",
       "      <td>medium</td>\n",
       "      <td>high</td>\n",
       "      <td>high</td>\n",
       "    </tr>\n",
       "    <tr>\n",
       "      <th>699</th>\n",
       "      <td>2011</td>\n",
       "      <td>Star Wars</td>\n",
       "      <td>Slave I</td>\n",
       "      <td>246.829979</td>\n",
       "      <td>201</td>\n",
       "      <td>4.8</td>\n",
       "      <td>medium</td>\n",
       "      <td>high</td>\n",
       "      <td>high</td>\n",
       "    </tr>\n",
       "    <tr>\n",
       "      <th>484</th>\n",
       "      <td>2010</td>\n",
       "      <td>Star Wars</td>\n",
       "      <td>Slave I</td>\n",
       "      <td>246.829979</td>\n",
       "      <td>201</td>\n",
       "      <td>4.8</td>\n",
       "      <td>medium</td>\n",
       "      <td>high</td>\n",
       "      <td>high</td>\n",
       "    </tr>\n",
       "    <tr>\n",
       "      <th>732</th>\n",
       "      <td>1996</td>\n",
       "      <td>Service Packs</td>\n",
       "      <td>Brick Separator</td>\n",
       "      <td>2.956552</td>\n",
       "      <td>180</td>\n",
       "      <td>4.8</td>\n",
       "      <td>low</td>\n",
       "      <td>high</td>\n",
       "      <td>high</td>\n",
       "    </tr>\n",
       "  </tbody>\n",
       "</table>\n",
       "</div>"
      ],
      "text/plain": [
       "     year                 Theme name                 Sets Name   Set Price  \\\n",
       "172  2011             Creator Expert  Volkswagen T1 Camper Van  123.816648   \n",
       "99   2010             Creator Expert              Tower Bridge  283.520457   \n",
       "164  2014          Modular Buildings       Parisian Restaurant  191.073790   \n",
       "697  2015  Ultimate Collector Series                   Slave I  246.829979   \n",
       "625  2019                  Star Wars                   Slave I  246.829979   \n",
       "79   2006                  Star Wars                   Slave I  246.829979   \n",
       "178  2000                  Star Wars                   Slave I  246.829979   \n",
       "699  2011                  Star Wars                   Slave I  246.829979   \n",
       "484  2010                  Star Wars                   Slave I  246.829979   \n",
       "732  1996              Service Packs           Brick Separator    2.956552   \n",
       "\n",
       "     Number of reviews  Star rating price_category review_count_category  \\\n",
       "172                337          4.7         medium                  high   \n",
       "99                 228          4.8           high                  high   \n",
       "164                202          4.9         medium                  high   \n",
       "697                201          4.8         medium                  high   \n",
       "625                201          4.8         medium                  high   \n",
       "79                 201          4.8         medium                  high   \n",
       "178                201          4.8         medium                  high   \n",
       "699                201          4.8         medium                  high   \n",
       "484                201          4.8         medium                  high   \n",
       "732                180          4.8            low                  high   \n",
       "\n",
       "    star_category  \n",
       "172          high  \n",
       "99           high  \n",
       "164          high  \n",
       "697          high  \n",
       "625          high  \n",
       "79           high  \n",
       "178          high  \n",
       "699          high  \n",
       "484          high  \n",
       "732          high  "
      ]
     },
     "execution_count": 45,
     "metadata": {},
     "output_type": "execute_result"
    }
   ],
   "source": [
    "set_data.sort_values('Number of reviews',ascending=False).head(10)"
   ]
  }
 ],
 "metadata": {
  "kernelspec": {
   "display_name": "venv",
   "language": "python",
   "name": "python3"
  },
  "language_info": {
   "codemirror_mode": {
    "name": "ipython",
    "version": 3
   },
   "file_extension": ".py",
   "mimetype": "text/x-python",
   "name": "python",
   "nbconvert_exporter": "python",
   "pygments_lexer": "ipython3",
   "version": "3.6.8"
  }
 },
 "nbformat": 4,
 "nbformat_minor": 2
}
